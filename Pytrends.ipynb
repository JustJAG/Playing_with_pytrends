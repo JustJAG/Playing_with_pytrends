{
 "cells": [
  {
   "cell_type": "code",
   "execution_count": 1,
   "metadata": {},
   "outputs": [],
   "source": [
    "# import the TrendReq method from the pytrends request module\n",
    "from pytrends.request import TrendReq\n",
    "\n",
    "# execute the TrendReq method by passing the host language (hl) and timezone (tz) parameters\n",
    "pytrends = TrendReq(hl='pt-BR', tz=180)"
   ]
  },
  {
   "cell_type": "code",
   "execution_count": 12,
   "metadata": {},
   "outputs": [],
   "source": [
    "# build list of keywords\n",
    "kw_list = [\"corrupção\"] \n",
    "\n",
    "# build the payload\n",
    "pytrends.build_payload(kw_list, geo='BR', timeframe = '2000-01-01 2011-12-31')"
   ]
  },
  {
   "cell_type": "code",
   "execution_count": 16,
   "metadata": {},
   "outputs": [
    {
     "name": "stdout",
     "output_type": "stream",
     "text": [
      "            corrupção  isPartial\n",
      "date                            \n",
      "2004-01-01          6      False\n",
      "2004-02-01         18      False\n",
      "2004-03-01         24      False\n",
      "2004-04-01         19      False\n",
      "2004-05-01         30      False\n",
      "2004-06-01         26      False\n",
      "2004-07-01         12      False\n",
      "2004-08-01         19      False\n",
      "2004-09-01         38      False\n",
      "2004-10-01         10      False\n",
      "2004-11-01         17      False\n",
      "2004-12-01          3      False\n",
      "2005-01-01          3      False\n",
      "2005-02-01         17      False\n",
      "2005-03-01         21      False\n",
      "2005-04-01         26      False\n",
      "2005-05-01         35      False\n",
      "2005-06-01         99      False\n",
      "2005-07-01         67      False\n",
      "2005-08-01         77      False\n"
     ]
    }
   ],
   "source": [
    "##look for Interest over time (https://pypi.org/project/pytrends/#interest-over-time)\n",
    "# import pandas module\n",
    "import pandas as pd\n",
    "\n",
    "# store interest over time information in df\n",
    "df = pytrends.interest_over_time()\n",
    "\n",
    "# display the top 20 rows in dataframe\n",
    "print(df.head(20))\n",
    "df.to_csv('out.csv')"
   ]
  },
  {
   "cell_type": "code",
   "execution_count": 4,
   "metadata": {},
   "outputs": [
    {
     "data": {
      "image/png": "[encoded data removed]",
      "text/plain": [
       "<Figure size 432x288 with 1 Axes>"
      ]
     },
     "metadata": {
      "needs_background": "light"
     },
     "output_type": "display_data"
    }
   ],
   "source": [
    "# import matplotlib plotting module to visualize data (make sure matplotlib is installed using pip)\n",
    "import matplotlib.pyplot as plt\n",
    "\n",
    "# plot the trend in chart\n",
    "plt.figure()\n",
    "plt.plot(df.index,df.corrupção,'k*')\n",
    "plt.legend(['corrupção'])\n",
    "#plt.savefig('plot.jpg')"
   ]
  },
  {
   "cell_type": "code",
   "execution_count": 5,
   "metadata": {},
   "outputs": [],
   "source": [
    "## Look for Related Topics (https://pypi.org/project/pytrends/#related-topics)\n",
    "# build the payload\n",
    "pytrends.build_payload(kw_list, geo='BR') \n",
    "\n",
    "# get related topics\n",
    "df_rt = pytrends.related_topics()"
   ]
  },
  {
   "cell_type": "code",
   "execution_count": 6,
   "metadata": {},
   "outputs": [
    {
     "name": "stdout",
     "output_type": "stream",
     "text": [
      "    value     formattedValue  \\\n",
      "0  245900  Aumento repentino   \n",
      "1  150450  Aumento repentino   \n",
      "2   52100  Aumento repentino   \n",
      "3   37150  Aumento repentino   \n",
      "4   37000  Aumento repentino   \n",
      "\n",
      "                                                link      topic_mid  \\\n",
      "0  /trends/explore?q=/m/0b4fnb&date=today+5-y&geo=BR      /m/0b4fnb   \n",
      "1  /trends/explore?q=/m/0ch5yn7&date=today+5-y&ge...     /m/0ch5yn7   \n",
      "2  /trends/explore?q=/g/11bxc7pxh9&date=today+5-y...  /g/11bxc7pxh9   \n",
      "3  /trends/explore?q=/m/03gtrh&date=today+5-y&geo=BR      /m/03gtrh   \n",
      "4  /trends/explore?q=/g/121q4gg2&date=today+5-y&g...    /g/121q4gg2   \n",
      "\n",
      "              topic_title                          topic_type  \n",
      "0              Ciro Gomes                         Ex-deputado  \n",
      "1         Fernando Haddad  Ex-Prefeito da cidade de São Paulo  \n",
      "2                Detector                             Assunto  \n",
      "3  Partido Social Liberal                    Partido político  \n",
      "4                  Charge                             Assunto  \n"
     ]
    }
   ],
   "source": [
    "# display top 5 rising results for the keyword\n",
    "print(df_rt['corrupção']['rising'].head(5))"
   ]
  },
  {
   "cell_type": "code",
   "execution_count": 7,
   "metadata": {},
   "outputs": [
    {
     "name": "stdout",
     "output_type": "stream",
     "text": [
      "   value formattedValue  hasData  \\\n",
      "0    100            100     True   \n",
      "1      7              7     True   \n",
      "2      5              5     True   \n",
      "3      5              5     True   \n",
      "4      5              5     True   \n",
      "\n",
      "                                                link    topic_mid  \\\n",
      "0  /trends/explore?q=/m/09pngm&date=today+5-y&geo=BR    /m/09pngm   \n",
      "1  /trends/explore?q=/g/1234zvyn&date=today+5-y&g...  /g/1234zvyn   \n",
      "2  /trends/explore?q=/m/04g5q20&date=today+5-y&ge...   /m/04g5q20   \n",
      "3  /trends/explore?q=/g/122df0g9&date=today+5-y&g...  /g/122df0g9   \n",
      "4   /trends/explore?q=/m/05qt0&date=today+5-y&geo=BR     /m/05qt0   \n",
      "\n",
      "           topic_title            topic_type  \n",
      "0            Corrupção               Assunto  \n",
      "1  Corrupção no Brasil               Assunto  \n",
      "2       Jair Bolsonaro  Presidente do Brasil  \n",
      "3    Corrupção passiva               Assunto  \n",
      "4             Política               Assunto  \n"
     ]
    }
   ],
   "source": [
    "# display top 5 top results for the keyword\n",
    "print(df_rt['corrupção']['top'].head(5))"
   ]
  },
  {
   "cell_type": "code",
   "execution_count": 8,
   "metadata": {},
   "outputs": [
    {
     "name": "stdout",
     "output_type": "stream",
     "text": [
      "{'corrupção': {'top':                     query  value\n",
      "0        corrupção brasil    100\n",
      "1     corrupção no brasil     73\n",
      "2         o que corrupção     71\n",
      "3        contra corrupção     56\n",
      "4       corrupção o que é     40\n",
      "5       corrupção passiva     36\n",
      "6      contra a corrupção     35\n",
      "7       o que e corrupção     32\n",
      "8     corrupção bolsonaro     32\n",
      "9   a corrupção no brasil     28\n",
      "10     crime de corrupção     25\n",
      "11        corrupção ativa     25\n",
      "12                   ciro     21\n",
      "13         ciro corrupção     20\n",
      "14   corrupção brasileira     20\n",
      "15                redação     19\n",
      "16      redação corrupção     19\n",
      "17             ciro gomes     18\n",
      "18   corrupção ciro gomes     18\n",
      "19         lula corrupção     16\n",
      "20     corrupção politica     15\n",
      "21               politica     14\n",
      "22  corrupção significado     14\n",
      "23    combate a corrupção     14\n",
      "24              lava jato     13, 'rising':                                  query   value\n",
      "0           corrupção brasileira memes  140250\n",
      "1                        psl corrupção   57650\n",
      "2                detector de corrupção   55300\n",
      "3               bolsonaro corrupção g1   30550\n",
      "4                              caixa 2   26950\n",
      "5          a corrupção da inteligência   26100\n",
      "6                                  mbl   18500\n",
      "7                        mbl corrupção   17550\n",
      "8       corrupção no governo bolsonaro   17550\n",
      "9                       onyx lorenzoni   16900\n",
      "10                ciro gomes processos   16650\n",
      "11              rodrigo maia corrupção   15000\n",
      "12    bolsonaro envolvido em corrupção   14650\n",
      "13           app detector de corrupção   11750\n",
      "14      unidos contra corrupção org br    9550\n",
      "15               nsc pais da corrupção    9500\n",
      "16           o espetáculo da corrupção    9300\n",
      "17    novas medidas contra a corrupção    8450\n",
      "18    aplicativo detector de corrupção    8350\n",
      "19        bolsonaro corrupção processo    8200\n",
      "20               lula admite corrupção    8150\n",
      "21  corrupção brasileira memes twitter    8050\n",
      "22                associação criminosa    7750\n",
      "23   ciro gomes processos de corrupção    7200\n",
      "24            bolsonaro corrupção veja    7050}}\n"
     ]
    }
   ],
   "source": [
    "## Look for Related queries (https://pypi.org/project/pytrends/#related-queries)\n",
    "# build the payload\n",
    "pytrends.build_payload(kw_list, geo='BR') \n",
    "\n",
    "# get related topics\n",
    "df_rq = pytrends.related_queries()\n",
    "\n",
    "# display df_rq\n",
    "print(df_rq)"
   ]
  },
  {
   "cell_type": "code",
   "execution_count": 9,
   "metadata": {},
   "outputs": [
    {
     "name": "stdout",
     "output_type": "stream",
     "text": [
      "[{'mid': '/m/09pngm', 'title': 'Corrupção', 'type': 'Assunto'}, {'mid': '/m/05kqnb', 'title': 'corrupção de menores', 'type': 'Assunto'}, {'mid': '/m/07g3k8', 'title': 'Comissão para a Erradicação da Corrupção', 'type': 'Agência governamental'}, {'mid': '/m/0hj49', 'title': 'Corrupção política', 'type': 'Ideologia política'}, {'mid': '/m/02k751', 'title': 'Corrupção policial', 'type': 'Assunto'}]\n"
     ]
    }
   ],
   "source": [
    "# get suggestions\n",
    "df_s = pytrends.suggestions('corrupção')\n",
    "\n",
    "# display df_rq\n",
    "print(df_s)"
   ]
  },
  {
   "cell_type": "code",
   "execution_count": 10,
   "metadata": {},
   "outputs": [
    {
     "data": {
      "text/html": [
       "<div>\n",
       "<style scoped>\n",
       "    .dataframe tbody tr th:only-of-type {\n",
       "        vertical-align: middle;\n",
       "    }\n",
       "\n",
       "    .dataframe tbody tr th {\n",
       "        vertical-align: top;\n",
       "    }\n",
       "\n",
       "    .dataframe thead th {\n",
       "        text-align: right;\n",
       "    }\n",
       "</style>\n",
       "<table border=\"1\" class=\"dataframe\">\n",
       "  <thead>\n",
       "    <tr style=\"text-align: right;\">\n",
       "      <th></th>\n",
       "      <th>0</th>\n",
       "    </tr>\n",
       "  </thead>\n",
       "  <tbody>\n",
       "    <tr>\n",
       "      <th>0</th>\n",
       "      <td>Wolfsburg x Bayern</td>\n",
       "    </tr>\n",
       "    <tr>\n",
       "      <th>1</th>\n",
       "      <td>Palmeiras x</td>\n",
       "    </tr>\n",
       "    <tr>\n",
       "      <th>2</th>\n",
       "      <td>West Ham</td>\n",
       "    </tr>\n",
       "    <tr>\n",
       "      <th>3</th>\n",
       "      <td>Israel</td>\n",
       "    </tr>\n",
       "    <tr>\n",
       "      <th>4</th>\n",
       "      <td>Funeral principe Philip</td>\n",
       "    </tr>\n",
       "    <tr>\n",
       "      <th>5</th>\n",
       "      <td>Deborah Secco</td>\n",
       "    </tr>\n",
       "    <tr>\n",
       "      <th>6</th>\n",
       "      <td>Classificação do Campeonato Paulista</td>\n",
       "    </tr>\n",
       "    <tr>\n",
       "      <th>7</th>\n",
       "      <td>Rafael Nadal</td>\n",
       "    </tr>\n",
       "    <tr>\n",
       "      <th>8</th>\n",
       "      <td>Tulla Luana</td>\n",
       "    </tr>\n",
       "    <tr>\n",
       "      <th>9</th>\n",
       "      <td>Fatima Bernardes</td>\n",
       "    </tr>\n",
       "    <tr>\n",
       "      <th>10</th>\n",
       "      <td>Cuba</td>\n",
       "    </tr>\n",
       "    <tr>\n",
       "      <th>11</th>\n",
       "      <td>Alfred Molina</td>\n",
       "    </tr>\n",
       "    <tr>\n",
       "      <th>12</th>\n",
       "      <td>Helen McCrory</td>\n",
       "    </tr>\n",
       "    <tr>\n",
       "      <th>13</th>\n",
       "      <td>Caxias x Grêmio</td>\n",
       "    </tr>\n",
       "    <tr>\n",
       "      <th>14</th>\n",
       "      <td>Dogecoin</td>\n",
       "    </tr>\n",
       "    <tr>\n",
       "      <th>15</th>\n",
       "      <td>Formula 1</td>\n",
       "    </tr>\n",
       "    <tr>\n",
       "      <th>16</th>\n",
       "      <td>Tottenham</td>\n",
       "    </tr>\n",
       "    <tr>\n",
       "      <th>17</th>\n",
       "      <td>Bruno Covas</td>\n",
       "    </tr>\n",
       "    <tr>\n",
       "      <th>18</th>\n",
       "      <td>Simone e Simaria</td>\n",
       "    </tr>\n",
       "    <tr>\n",
       "      <th>19</th>\n",
       "      <td>RB Leipzig</td>\n",
       "    </tr>\n",
       "  </tbody>\n",
       "</table>\n",
       "</div>"
      ],
      "text/plain": [
       "                                       0\n",
       "0                     Wolfsburg x Bayern\n",
       "1                            Palmeiras x\n",
       "2                               West Ham\n",
       "3                                 Israel\n",
       "4                Funeral principe Philip\n",
       "5                          Deborah Secco\n",
       "6   Classificação do Campeonato Paulista\n",
       "7                           Rafael Nadal\n",
       "8                            Tulla Luana\n",
       "9                       Fatima Bernardes\n",
       "10                                  Cuba\n",
       "11                         Alfred Molina\n",
       "12                         Helen McCrory\n",
       "13                       Caxias x Grêmio\n",
       "14                              Dogecoin\n",
       "15                             Formula 1\n",
       "16                             Tottenham\n",
       "17                           Bruno Covas\n",
       "18                      Simone e Simaria\n",
       "19                            RB Leipzig"
      ]
     },
     "execution_count": 10,
     "metadata": {},
     "output_type": "execute_result"
    }
   ],
   "source": [
    "## Look for Trending searches (https://pypi.org/project/pytrends/#trending-searches)\n",
    "pytrends.trending_searches(pn='brazil')"
   ]
  },
  {
   "cell_type": "code",
   "execution_count": null,
   "metadata": {},
   "outputs": [],
   "source": []
  }
 ],
 "metadata": {
  "kernelspec": {
   "display_name": "Python 3",
   "language": "python",
   "name": "python3"
  },
  "language_info": {
   "codemirror_mode": {
    "name": "ipython",
    "version": 3
   },
   "file_extension": ".py",
   "mimetype": "text/x-python",
   "name": "python",
   "nbconvert_exporter": "python",
   "pygments_lexer": "ipython3",
   "version": "3.8.3"
  }
 },
 "nbformat": 4,
 "nbformat_minor": 4
}
